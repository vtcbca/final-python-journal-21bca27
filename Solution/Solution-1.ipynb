{
 "cells": [
  {
   "cell_type": "code",
   "execution_count": 10,
   "id": "0fbe1669",
   "metadata": {},
   "outputs": [
    {
     "name": "stdout",
     "output_type": "stream",
     "text": [
      "Data are Successfully Written.\n"
     ]
    }
   ],
   "source": [
    "import csv\n",
    "import pandas as pd\n",
    "\n",
    "def Q1():\n",
    "    with open('salary.csv','w',newline='') as sal:\n",
    "        data=[['Empid','Empname','Department','Experience','Salary'],\n",
    "              [1,'KETAN','MBA','10 Years',100000],\n",
    "              [2,'DEV','MCA','8 Years',85000],\n",
    "              [3,'JENISH','BCA','5 Years',65000],\n",
    "              [4,'PARTH','BBA','2 Years',15000],\n",
    "              [5,'ANY','BCA','4 Years',35000]]\n",
    "        w=csv.writer(sal)\n",
    "        w.writerows(data)\n",
    "print('Data are Successfully Written.')"
   ]
  },
  {
   "cell_type": "code",
   "execution_count": 19,
   "id": "d887a129",
   "metadata": {},
   "outputs": [],
   "source": [
    "def Q2():\n",
    "    with open('salary.csv','r',newline='') as sal:\n",
    "        r=csv.reader(sal)\n",
    "        for i in sal:\n",
    "            print(i)"
   ]
  },
  {
   "cell_type": "code",
   "execution_count": 20,
   "id": "c7c6bdcc",
   "metadata": {},
   "outputs": [],
   "source": [
    "def Q3():\n",
    "    with open('salary.csv','a',newline='') as sal:\n",
    "        data=[[6,'TUSAR','BCA','6 Years',75000],\n",
    "              [7,'HARDAY','BBA','1 Years',20000]]\n",
    "        w=csv.writer(sal)\n",
    "        w.writerows(data)"
   ]
  },
  {
   "cell_type": "code",
   "execution_count": 22,
   "id": "6074f597",
   "metadata": {},
   "outputs": [],
   "source": [
    "def Q4():\n",
    "    with open('salary.csv','r',newline='') as sal:\n",
    "        data=csv.DictReader(sal)\n",
    "        l=[]\n",
    "        s=0\n",
    "        for i in data:\n",
    "            d=i['Department']\n",
    "            if d=='BCA':\n",
    "                s+=int(i['Salary'])\n",
    "                print('The total Salary of BCA Department is : {}'.format(s))"
   ]
  },
  {
   "cell_type": "code",
   "execution_count": 23,
   "id": "64df0460",
   "metadata": {},
   "outputs": [],
   "source": [
    "def Q5():\n",
    "    df=pd.read_csv('salary.csv')\n",
    "    print(df)"
   ]
  }
 ],
 "metadata": {
  "kernelspec": {
   "display_name": "Python 3 (ipykernel)",
   "language": "python",
   "name": "python3"
  },
  "language_info": {
   "codemirror_mode": {
    "name": "ipython",
    "version": 3
   },
   "file_extension": ".py",
   "mimetype": "text/x-python",
   "name": "python",
   "nbconvert_exporter": "python",
   "pygments_lexer": "ipython3",
   "version": "3.10.4"
  }
 },
 "nbformat": 4,
 "nbformat_minor": 5
}
