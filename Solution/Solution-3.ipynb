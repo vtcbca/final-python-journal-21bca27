{
 "cells": [
  {
   "cell_type": "code",
   "execution_count": null,
   "id": "e5e81f66",
   "metadata": {},
   "outputs": [],
   "source": [
    "import pandas as pd\n",
    "df=pd.read_csv('STUDENT.csv')"
   ]
  },
  {
   "cell_type": "code",
   "execution_count": null,
   "id": "700ef9d0",
   "metadata": {},
   "outputs": [],
   "source": [
    "df.info()"
   ]
  },
  {
   "cell_type": "code",
   "execution_count": null,
   "id": "8e43a57e",
   "metadata": {},
   "outputs": [],
   "source": [
    "df.fillna(df.mean())"
   ]
  },
  {
   "cell_type": "code",
   "execution_count": null,
   "id": "86f57123",
   "metadata": {},
   "outputs": [],
   "source": [
    "df.head(2)"
   ]
  },
  {
   "cell_type": "code",
   "execution_count": null,
   "id": "212e36e0",
   "metadata": {},
   "outputs": [],
   "source": [
    "df.head(-5)"
   ]
  },
  {
   "cell_type": "code",
   "execution_count": null,
   "id": "314cb798",
   "metadata": {},
   "outputs": [],
   "source": [
    "df.head(-10)"
   ]
  },
  {
   "cell_type": "code",
   "execution_count": null,
   "id": "4696638a",
   "metadata": {},
   "outputs": [],
   "source": [
    "df.groupby(['CITY','SNAME']).sum()"
   ]
  },
  {
   "cell_type": "code",
   "execution_count": null,
   "id": "c03de320",
   "metadata": {},
   "outputs": [],
   "source": [
    "df.sort_values(by='TRAVEL_BY')"
   ]
  },
  {
   "cell_type": "code",
   "execution_count": null,
   "id": "db329187",
   "metadata": {},
   "outputs": [],
   "source": [
    "df[(df['CITY']=='BARDOLI') & (df['TRAVEL_BY']=='BIKE')]"
   ]
  },
  {
   "cell_type": "code",
   "execution_count": null,
   "id": "f31e3cb6",
   "metadata": {},
   "outputs": [],
   "source": [
    "df.groupby(['TRAVEL_BY']).size().reset_index(name='Number of Student')"
   ]
  },
  {
   "cell_type": "code",
   "execution_count": null,
   "id": "e4e5d537",
   "metadata": {},
   "outputs": [],
   "source": [
    "df['CITY'].unique()       "
   ]
  },
  {
   "cell_type": "code",
   "execution_count": null,
   "id": "dc6d1c2e",
   "metadata": {},
   "outputs": [],
   "source": [
    "df[['SNAME','TRAVEL_BY']]"
   ]
  },
  {
   "cell_type": "code",
   "execution_count": null,
   "id": "9015bda8",
   "metadata": {},
   "outputs": [],
   "source": [
    "df[(df['COURSE']=='BBA') & (df['TRAVEL_BY']=='CAR') & (df['TRAVEL_EXPENSE']<500)]"
   ]
  },
  {
   "cell_type": "code",
   "execution_count": null,
   "id": "e6909642",
   "metadata": {},
   "outputs": [],
   "source": [
    "df[4:9]"
   ]
  },
  {
   "cell_type": "code",
   "execution_count": null,
   "id": "39cbde7c",
   "metadata": {},
   "outputs": [],
   "source": [
    "df1=df.iloc[10:15,0:]\n",
    "df1[['SNAME','CITY']] [df1['COURSE'] == 'BCA']"
   ]
  }
 ],
 "metadata": {
  "kernelspec": {
   "display_name": "Python 3 (ipykernel)",
   "language": "python",
   "name": "python3"
  },
  "language_info": {
   "codemirror_mode": {
    "name": "ipython",
    "version": 3
   },
   "file_extension": ".py",
   "mimetype": "text/x-python",
   "name": "python",
   "nbconvert_exporter": "python",
   "pygments_lexer": "ipython3",
   "version": "3.10.4"
  }
 },
 "nbformat": 4,
 "nbformat_minor": 5
}
